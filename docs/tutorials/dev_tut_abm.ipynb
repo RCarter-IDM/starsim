{
 "cells": [
  {
   "cell_type": "markdown",
   "metadata": {},
   "source": [
    "# Developer tutorial: ABM examples\n",
    "\n",
    "This tutorial describes how Starsim can be used to reproduce examples from other Python ABMs.\n"
   ]
  },
  {
   "cell_type": "markdown",
   "metadata": {},
   "source": [
    "## `agentpy`: Virus spread\n",
    "\n",
    "This tutorial is adapted from the following example:\n",
    "https://agentpy.readthedocs.io/en/latest/agentpy_virus_spread.html\n",
    "\n",
    "TBC"
   ]
  },
  {
   "cell_type": "markdown",
   "metadata": {},
   "source": [
    "## `mesa`: Wealth model\n",
    "\n",
    "Although Starsim is intended primarily for modeling disease, it can also be used as a general-purpose agent-based model.  This example illustrates\n",
    "\n",
    "https://mesa.readthedocs.io/en/stable/tutorials/intro_tutorial.html"
   ]
  },
  {
   "cell_type": "code",
   "execution_count": 1,
   "metadata": {},
   "outputs": [
    {
     "name": "stdout",
     "output_type": "stream",
     "text": [
      "Starsim 1.0.0 (2024-07-08) — © 2023-2024 by IDM\n",
      "Initializing sim with 2000 agents\n",
      "  Running 2000.0 ( 0/51) (0.18 s)  ———————————————————— 2%\n",
      "  Running 2010.0 (10/51) (0.21 s)  ••••———————————————— 22%\n",
      "  Running 2020.0 (20/51) (0.23 s)  ••••••••———————————— 41%\n",
      "  Running 2030.0 (30/51) (0.25 s)  ••••••••••••———————— 61%\n",
      "  Running 2040.0 (40/51) (0.26 s)  ••••••••••••••••———— 80%\n",
      "  Running 2050.0 (50/51) (0.28 s)  •••••••••••••••••••• 100%\n",
      "\n"
     ]
    },
    {
     "data": {
      "text/plain": [
       "Sim(n=2000; networks=randomnet; diseases=sir)"
      ]
     },
     "execution_count": 1,
     "metadata": {},
     "output_type": "execute_result"
    }
   ],
   "source": [
    "import starsim as ss\n",
    "sir = ss.SIR(dur_inf=10, beta=0.2, init_prev=0.4, p_death=0.2)\n",
    "sim = ss.Sim(n_agents=2_000, diseases=sir, networks='random')\n",
    "sim.run()"
   ]
  }
 ],
 "metadata": {
  "kernelspec": {
   "display_name": "Python 3 (ipykernel)",
   "language": "python",
   "name": "python3"
  },
  "language_info": {
   "codemirror_mode": {
    "name": "ipython",
    "version": 3
   },
   "file_extension": ".py",
   "mimetype": "text/x-python",
   "name": "python",
   "nbconvert_exporter": "python",
   "pygments_lexer": "ipython3",
   "version": "3.11.7"
  },
  "pycharm": {
   "stem_cell": {
    "cell_type": "raw",
    "metadata": {
     "collapsed": false
    },
    "source": []
   }
  },
  "toc": {
   "base_numbering": 1,
   "nav_menu": {},
   "number_sections": true,
   "sideBar": true,
   "skip_h1_title": false,
   "title_cell": "Table of Contents",
   "title_sidebar": "Contents",
   "toc_cell": false,
   "toc_position": {},
   "toc_section_display": true,
   "toc_window_display": false
  }
 },
 "nbformat": 4,
 "nbformat_minor": 4
}
