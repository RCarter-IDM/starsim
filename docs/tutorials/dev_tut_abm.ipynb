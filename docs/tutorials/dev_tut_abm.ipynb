{
 "cells": [
  {
   "cell_type": "markdown",
   "metadata": {},
   "source": [
    "# Developer tutorial: ABM examples\n",
    "\n",
    "This tutorial describes how Starsim can be used to reproduce examples from other Python ABMs.\n",
    "## Mesa: Wealth model\n",
    "\n",
    "Although Starsim is intended primarily for modeling disease, it can also be used as a general-purpose agent-based model.  This example illustrates a simple \"weath model\", in which each agent starts with a single unit of wealth, and on each timestep, every agent with more than zero wealth gives one unit of wealth to another agent.\n",
    "\n",
    "This tutorial is adapted from the following example:\n",
    "\n",
    "https://mesa.readthedocs.io/en/stable/tutorials/intro_tutorial.html\n",
    "\n",
    "### Setting up the model\n",
    "\n",
    "We could define the wealth model as any type of module, since they all can store states and update them. Here we will define wealth as a subclass of `ss.Intervention` (though it could equally well be a subclass of `ss.Demographics` or even `ss.Disease`, if you are so inclined). All we need to do is update the `wealth` state (which we can store inside the \"intervention\"), and we can also use this class to track the wealth distribution over time and plot it. The full model looks like this:"
   ]
  },
  {
   "cell_type": "code",
   "execution_count": null,
   "metadata": {},
   "outputs": [],
   "source": [
    "# Imports\n",
    "import numpy as np\n",
    "import starsim as ss\n",
    "import matplotlib.pyplot as plt\n",
    "\n",
    "# Define the model\n",
    "class WealthModel(ss.Intervention):\n",
    "    \"\"\" A simple wealth transfer model\"\"\"\n",
    "    \n",
    "    def init_post(self, bins=10):\n",
    "        \"\"\" Define custom model attributes \"\"\"\n",
    "        super().init_post()\n",
    "        self.npts = self.sim.npts # Number of timepoints\n",
    "        self.n_agents = len(sim.people) # Number of agents\n",
    "        self.wealth = np.ones(self.n_agents) # Initial wealth of each agent\n",
    "        self.bins = np.arange(bins+1) # Bins used for plotting\n",
    "        self.wealth_dist = np.zeros((self.npts, len(self.bins)-1)) # Wealth distribution over time\n",
    "        return\n",
    "        \n",
    "    def apply(self, sim):\n",
    "        \"\"\" Transfer wealth between agents -- core model logic \"\"\"\n",
    "        self.wealth_hist() # Store the wealth at this time point\n",
    "        givers = self.wealth > 0 # People need wealth to be givers\n",
    "        receivers = np.random.choice(sim.people.uid, size=givers.sum()) # Anyone can be a receiver\n",
    "        self.wealth[givers] -= 1 # Givers are unique, so can use vectorized version\n",
    "        for receive in receivers: # Vectorized version is: np.add.at(sim.people.wealth.raw, receivers, 1)\n",
    "            self.wealth[receive] += 1\n",
    "        return\n",
    "    \n",
    "    def wealth_hist(self):\n",
    "        \"\"\" Calculate the wealth histogram \"\"\"\n",
    "        ti = self.sim.ti # Current timestep\n",
    "        self.wealth_dist[ti,:], _ = np.histogram(self.wealth, bins=self.bins)\n",
    "        return\n",
    "    \n",
    "    def plot(self):\n",
    "        \"\"\" Plot a 2D histogram of the final wealth distribution \"\"\"\n",
    "        plt.figure()\n",
    "        plt.bar(self.bins[:-1], self.wealth_dist[-1,:])\n",
    "        plt.title('Wealth distribution at final time point')\n",
    "        plt.xlabel('Wealth')\n",
    "        plt.ylabel('Number of agents')\n",
    "        plt.show()\n",
    "        return\n",
    "    \n",
    "    def plot3d(self):\n",
    "        \"\"\" Plot a 3D heatmap of the wealth distribution over time \"\"\"\n",
    "        plt.figure()\n",
    "        plt.pcolor(self.wealth_dist.T, cmap='turbo')\n",
    "        plt.title('Wealth distribution over time')\n",
    "        plt.xlabel('Time')\n",
    "        plt.ylabel('Wealth')\n",
    "        plt.colorbar().set_label('Number of agents', rotation=270)\n",
    "        plt.show()\n",
    "        return\n",
    "\n",
    "# Create sim inputs, including the wealth model\n",
    "wealth = WealthModel()\n",
    "pars = dict(\n",
    "    n_agents = 100, # Number of agents\n",
    "    start = 0,\n",
    "    end = 100,\n",
    "    interventions = wealth,\n",
    ")\n",
    "\n",
    "# Run the model\n",
    "sim = ss.Sim(pars, copy_inputs=False) # copy_inputs=False lets us reuse the \"wealth\" object from above\n",
    "sim.run()\n",
    "\n",
    "# Plot the results\n",
    "wealth.plot()\n",
    "wealth.plot3d()"
   ]
  },
  {
   "cell_type": "markdown",
   "metadata": {},
   "source": [
    "### Comparison with Mesa\n",
    "\n",
    "While the implementation in Starsim is similar to Mesa, there are a couple key differences:\n",
    "- Because Starsim's people object is vectorized, the wealth definition and update is vectorized as well.\n",
    "- Both Mesa and Starsim versions of the model are quite simple, but there is a little less boilerplate in the Starsim version."
   ]
  }
 ],
 "metadata": {
  "kernelspec": {
   "display_name": "Python 3 (ipykernel)",
   "language": "python",
   "name": "python3"
  },
  "language_info": {
   "codemirror_mode": {
    "name": "ipython",
    "version": 3
   },
   "file_extension": ".py",
   "mimetype": "text/x-python",
   "name": "python",
   "nbconvert_exporter": "python",
   "pygments_lexer": "ipython3",
   "version": "3.11.7"
  },
  "pycharm": {
   "stem_cell": {
    "cell_type": "raw",
    "metadata": {
     "collapsed": false
    },
    "source": []
   }
  },
  "toc": {
   "base_numbering": 1,
   "nav_menu": {},
   "number_sections": true,
   "sideBar": true,
   "skip_h1_title": false,
   "title_cell": "Table of Contents",
   "title_sidebar": "Contents",
   "toc_cell": false,
   "toc_position": {},
   "toc_section_display": true,
   "toc_window_display": false
  }
 },
 "nbformat": 4,
 "nbformat_minor": 4
}
