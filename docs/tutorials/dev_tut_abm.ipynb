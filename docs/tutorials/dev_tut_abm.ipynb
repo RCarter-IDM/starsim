{
 "cells": [
  {
   "cell_type": "markdown",
   "metadata": {},
   "source": [
    "# Developer tutorial: ABM examples\n",
    "\n",
    "This tutorial describes how Starsim can be used to reproduce examples from other Python ABMs.\n"
   ]
  },
  {
   "cell_type": "markdown",
   "metadata": {},
   "source": [
    "## `agentpy`: Virus spread\n",
    "\n",
    "This tutorial is adapted from the following example:\n",
    "https://agentpy.readthedocs.io/en/latest/agentpy_virus_spread.html\n",
    "\n",
    "TBC"
   ]
  },
  {
   "cell_type": "markdown",
   "metadata": {},
   "source": [
    "## `mesa`: Wealth model\n",
    "\n",
    "Although Starsim is intended primarily for modeling disease, it can also be used as a general-purpose agent-based model.  This example illustrates a simple \"weath model\", in which each agent starts with a single unit of wealth, and on each timestep, every agent with more than zero wealth gives one unit of wealth to another agent.\n",
    "\n",
    "This tutorial is adapted from the following example:\n",
    "\n",
    "https://mesa.readthedocs.io/en/stable/tutorials/intro_tutorial.html\n",
    "\n",
    "### Setting up the model\n",
    "\n"
   ]
  },
  {
   "cell_type": "code",
   "execution_count": 2,
   "metadata": {},
   "outputs": [
    {
     "name": "stdout",
     "output_type": "stream",
     "text": [
      "Initializing sim with 100 agents\n",
      "  Running 0.0 ( 0/101) (0.01 s)  ———————————————————— 1%\n",
      "  Running 10.0 (10/101) (0.01 s)  ••—————————————————— 11%\n",
      "  Running 20.0 (20/101) (0.01 s)  ••••———————————————— 21%\n",
      "  Running 30.0 (30/101) (0.01 s)  ••••••—————————————— 31%\n",
      "  Running 40.0 (40/101) (0.01 s)  ••••••••———————————— 41%\n",
      "  Running 50.0 (50/101) (0.02 s)  ••••••••••—————————— 50%\n",
      "  Running 60.0 (60/101) (0.02 s)  ••••••••••••———————— 60%\n",
      "  Running 70.0 (70/101) (0.02 s)  ••••••••••••••—————— 70%\n",
      "  Running 80.0 (80/101) (0.03 s)  ••••••••••••••••———— 80%\n",
      "  Running 90.0 (90/101) (0.03 s)  ••••••••••••••••••—— 90%\n",
      "  Running 100.0 (100/101) (0.04 s)  •••••••••••••••••••• 100%\n",
      "\n"
     ]
    },
    {
     "data": {
      "image/png": "[encoded data removed]",
      "text/plain": [
       "<Figure size 640x480 with 1 Axes>"
      ]
     },
     "metadata": {},
     "output_type": "display_data"
    }
   ],
   "source": [
    "import numpy as np\n",
    "import sciris as sc\n",
    "import starsim as ss\n",
    "import matplotlib.pyplot as plt\n",
    "\n",
    "\n",
    "# Create the model\n",
    "class MoneyModel(ss.Intervention):\n",
    "    \n",
    "    def init_post(self, bins=10):\n",
    "        super().init_post()\n",
    "        self.npts = self.sim.npts\n",
    "        self.n_agents = len(sim.people)\n",
    "        self.bins = np.arange(bins+1)\n",
    "        self.wealth_dist = np.zeros((self.npts, len(self.bins)-1))\n",
    "        return\n",
    "    \n",
    "    def wealth_hist(self):\n",
    "        ti = self.sim.ti\n",
    "        wealth = self.sim.people.wealth\n",
    "        self.wealth_dist[ti,:], _ = np.histogram(wealth, bins=self.bins)\n",
    "        return\n",
    "        \n",
    "    def apply(self, sim):\n",
    "        self.wealth_hist()\n",
    "        givers = (sim.people.wealth > 0).uids\n",
    "        receivers = ss.uids(np.random.choice(sim.people.uid, size=len(givers)))\n",
    "        sim.people.wealth[givers] -= 1\n",
    "        for receive in receivers: # In a loop due to repeated indices; could also use np.add.at()\n",
    "            sim.people.wealth[receive] += 1\n",
    "        return\n",
    "    \n",
    "    def plot(self):\n",
    "        plt.bar(self.bins[:-1], self.wealth_dist[-1,:])\n",
    "        plt.show()\n",
    "        return\n",
    "    \n",
    "    def plot3d(self):\n",
    "        sc.bar3d(self.wealth_dist)\n",
    "        return\n",
    "    \n",
    "\n",
    "# Create the custom people\n",
    "n_agents = 100\n",
    "wealth = ss.FloatArr('wealth', default=1.0)\n",
    "people = ss.People(n_agents=n_agents, extra_states=wealth)\n",
    "\n",
    "# Create interveniton\n",
    "money = MoneyModel()\n",
    "\n",
    "pars = dict(\n",
    "    start = 0,\n",
    "    end = 100,\n",
    "    people = people,\n",
    "    interventions = money,\n",
    ")\n",
    "\n",
    "# Run and plot the model\n",
    "sim = ss.Sim(pars, copy_inputs=False)\n",
    "sim.run()\n",
    "money.plot()"
   ]
  },
  {
   "cell_type": "code",
   "execution_count": null,
   "metadata": {},
   "outputs": [],
   "source": []
  }
 ],
 "metadata": {
  "kernelspec": {
   "display_name": "Python 3 (ipykernel)",
   "language": "python",
   "name": "python3"
  },
  "language_info": {
   "codemirror_mode": {
    "name": "ipython",
    "version": 3
   },
   "file_extension": ".py",
   "mimetype": "text/x-python",
   "name": "python",
   "nbconvert_exporter": "python",
   "pygments_lexer": "ipython3",
   "version": "3.11.7"
  },
  "pycharm": {
   "stem_cell": {
    "cell_type": "raw",
    "metadata": {
     "collapsed": false
    },
    "source": []
   }
  },
  "toc": {
   "base_numbering": 1,
   "nav_menu": {},
   "number_sections": true,
   "sideBar": true,
   "skip_h1_title": false,
   "title_cell": "Table of Contents",
   "title_sidebar": "Contents",
   "toc_cell": false,
   "toc_position": {},
   "toc_section_display": true,
   "toc_window_display": false
  }
 },
 "nbformat": 4,
 "nbformat_minor": 4
}
